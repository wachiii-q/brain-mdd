{
 "cells": [
  {
   "cell_type": "code",
   "execution_count": 1,
   "metadata": {},
   "outputs": [],
   "source": [
    "import mne"
   ]
  },
  {
   "cell_type": "code",
   "execution_count": 19,
   "metadata": {},
   "outputs": [],
   "source": [
    "import dotenv\n",
    "import numpy as np\n",
    "import os\n",
    "import matplotlib.pyplot as plt\n",
    "import pandas as pd\n",
    "from brainmdd.features.psd import EEGPowerSpectrum\n",
    "from sklearn.metrics import accuracy_score, precision_score, recall_score, f1_score\n",
    "from sklearn.metrics import roc_curve, auc, confusion_matrix\n",
    "import mne\n",
    "import enum\n",
    "import joblib\n",
    "\n",
    "# Declare Global Variables\n",
    "NUM_CHANNELS = 16\n",
    "MODMA_SFREQ = 250\n",
    "\n",
    "\n",
    "# Declare Feature Dictionary\n",
    "featureDict = {\n",
    "    \"norm_power\": {\n",
    "        \"mdd\": {\n",
    "            \"delta\": [],\n",
    "            \"theta\": [],\n",
    "            \"alpha\": [],\n",
    "            \"beta\": [],\n",
    "            \"gamma\": []\n",
    "            },\n",
    "        \"control\": {\n",
    "            \"delta\": [],\n",
    "            \"theta\": [],\n",
    "            \"alpha\": [],\n",
    "            \"beta\": [],\n",
    "            \"gamma\": []\n",
    "            }\n",
    "        }\n",
    "    }    \n",
    "\n"
   ]
  },
  {
   "cell_type": "code",
   "execution_count": 5,
   "metadata": {},
   "outputs": [
    {
     "name": "stdout",
     "output_type": "stream",
     "text": [
      "Reading /Users/wachiii/Workschii/brain-mdd/dataset/predct/eyeopen_16Channels/selected10subepochs/mdd1610epochs.fif ...\n",
      "Isotrak not found\n",
      "    Found the data of interest:\n",
      "        t =       0.00 ...    9996.00 ms\n"
     ]
    },
    {
     "name": "stdout",
     "output_type": "stream",
     "text": [
      "        0 CTF compensation matrices available\n",
      "Not setting metadata\n",
      "180 matching events found\n",
      "No baseline correction applied\n",
      "0 projection items activated\n",
      "Reading /Users/wachiii/Workschii/brain-mdd/dataset/predct/eyeopen_16Channels/selected10subepochs/hc1610epochs.fif ...\n",
      "Isotrak not found\n",
      "    Found the data of interest:\n",
      "        t =       0.00 ...    9996.00 ms\n",
      "        0 CTF compensation matrices available\n",
      "Not setting metadata\n",
      "180 matching events found\n",
      "No baseline correction applied\n",
      "0 projection items activated\n"
     ]
    },
    {
     "name": "stderr",
     "output_type": "stream",
     "text": [
      "/var/folders/kf/plh_bl0s64g1swyqvnc651pr0000gn/T/ipykernel_3561/3411271536.py:5: RuntimeWarning: This filename (/Users/wachiii/Workschii/brain-mdd/dataset/predct/eyeopen_16Channels/selected10subepochs/mdd1610epochs.fif) does not conform to MNE naming conventions. All epochs files should end with -epo.fif, -epo.fif.gz, _epo.fif or _epo.fif.gz\n",
      "  mdd_epochs = mne.read_epochs(testMDDEpochsFilePath, preload=True)\n",
      "/var/folders/kf/plh_bl0s64g1swyqvnc651pr0000gn/T/ipykernel_3561/3411271536.py:6: RuntimeWarning: This filename (/Users/wachiii/Workschii/brain-mdd/dataset/predct/eyeopen_16Channels/selected10subepochs/hc1610epochs.fif) does not conform to MNE naming conventions. All epochs files should end with -epo.fif, -epo.fif.gz, _epo.fif or _epo.fif.gz\n",
      "  hc_epochs = mne.read_epochs(testHCEpochsFilePath, preload=True)\n"
     ]
    }
   ],
   "source": [
    "# load the epochs\n",
    "testHCEpochsFilePath = \"/Users/wachiii/Workschii/brain-mdd/dataset/predct/eyeopen_16Channels/selected10subepochs/hc1610epochs.fif\"\n",
    "testMDDEpochsFilePath = \"/Users/wachiii/Workschii/brain-mdd/dataset/predct/eyeopen_16Channels/selected10subepochs/mdd1610epochs.fif\"\n",
    "\n",
    "mdd_epochs = mne.read_epochs(testMDDEpochsFilePath, preload=True)\n",
    "hc_epochs = mne.read_epochs(testHCEpochsFilePath, preload=True)"
   ]
  },
  {
   "cell_type": "code",
   "execution_count": 6,
   "metadata": {},
   "outputs": [
    {
     "name": "stdout",
     "output_type": "stream",
     "text": [
      "MDD PSD Features:  (180, 5, 16)\n",
      "HC PSD Features:  (180, 5, 16)\n"
     ]
    }
   ],
   "source": [
    "psdObjMdd = EEGPowerSpectrum(mdd_epochs, 250, ifNormalize=False)\n",
    "mddPsdFeatures = psdObjMdd.run()\n",
    "psdObjHc = EEGPowerSpectrum(hc_epochs, 250, ifNormalize=False)\n",
    "hcPsdFeatures = psdObjHc.run()\n",
    "print(\"MDD PSD Features: \", mddPsdFeatures.shape)\n",
    "print(\"HC PSD Features: \", hcPsdFeatures.shape)"
   ]
  },
  {
   "cell_type": "code",
   "execution_count": 30,
   "metadata": {},
   "outputs": [],
   "source": [
    "psdOnlyModelPath = \"/Users/wachiii/Workschii/brain-mdd/models/CrossValidation/bandpowerCv/Random Forest_NoFeatureSelection/model_fold_1.pkl\"\n",
    "psdOnlyModel = joblib.load(psdOnlyModelPath)\n"
   ]
  },
  {
   "cell_type": "code",
   "execution_count": 31,
   "metadata": {},
   "outputs": [
    {
     "name": "stdout",
     "output_type": "stream",
     "text": [
      "X shape:  (360, 80)\n",
      "MDD PSD Features Reshape:  (180, 80)\n"
     ]
    }
   ],
   "source": [
    "mddPsdFeatures = mddPsdFeatures.reshape(mddPsdFeatures.shape[0], -1)\n",
    "hcPsdFeatures = hcPsdFeatures.reshape(hcPsdFeatures.shape[0], -1)\n",
    "mddFeature = np.concatenate([mddPsdFeatures], axis=1)\n",
    "hcFeature = np.concatenate([hcPsdFeatures], axis=1)\n",
    "\n",
    "X = np.concatenate([mddFeature, hcFeature], axis=0)\n",
    "y = np.concatenate([np.ones(mddFeature.shape[0]), np.zeros(hcFeature.shape[0])], axis=0)\n",
    "print(\"X shape: \", X.shape)\n",
    "print(\"MDD PSD Features Reshape: \", mddPsdFeatures.shape)"
   ]
  },
  {
   "cell_type": "code",
   "execution_count": 32,
   "metadata": {},
   "outputs": [
    {
     "name": "stdout",
     "output_type": "stream",
     "text": [
      "Accuracy:  0.5444444444444444\n",
      "Precision:  0.5317460317460317\n",
      "Recall:  0.7444444444444445\n",
      "F1 Score:  0.6203703703703703\n"
     ]
    }
   ],
   "source": [
    "# Predict the MDD and HC\n",
    "y_pred = psdOnlyModel.predict(X)\n",
    "acc = accuracy_score(y, y_pred)\n",
    "precision = precision_score(y, y_pred)\n",
    "recall = recall_score(y, y_pred)\n",
    "f1 = f1_score(y, y_pred)\n",
    "print(\"Accuracy: \", acc)\n",
    "print(\"Precision: \", precision)\n",
    "print(\"Recall: \", recall)\n",
    "print(\"F1 Score: \", f1)\n"
   ]
  },
  {
   "cell_type": "code",
   "execution_count": null,
   "metadata": {},
   "outputs": [],
   "source": []
  },
  {
   "cell_type": "code",
   "execution_count": null,
   "metadata": {},
   "outputs": [],
   "source": []
  }
 ],
 "metadata": {
  "kernelspec": {
   "display_name": "brain-mdd",
   "language": "python",
   "name": "python3"
  },
  "language_info": {
   "codemirror_mode": {
    "name": "ipython",
    "version": 3
   },
   "file_extension": ".py",
   "mimetype": "text/x-python",
   "name": "python",
   "nbconvert_exporter": "python",
   "pygments_lexer": "ipython3",
   "version": "3.12.7"
  }
 },
 "nbformat": 4,
 "nbformat_minor": 2
}
