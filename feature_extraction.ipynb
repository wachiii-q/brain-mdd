{
 "cells": [
  {
   "cell_type": "markdown",
   "metadata": {},
   "source": [
    "# Initiate Feature Extraction"
   ]
  },
  {
   "cell_type": "code",
   "execution_count": null,
   "metadata": {},
   "outputs": [],
   "source": [
    "import dotenv\n",
    "import numpy as np\n",
    "import os\n",
    "import random\n",
    "import mne\n",
    "\n",
    "dotenv.load_dotenv()\n",
    "\n",
    "modmaEpochsDir = os.getenv(\"MODMA_10S_EPOCHS_DIR\")\n",
    "predctEpochsDir = os.getenv(\"PREDCT_10S_EPOCHS_DIR\")\n",
    "modmaFeaturesDir = os.getenv(\"MODMA_FEATURES_DIR\")\n",
    "predctFeaturesDir = os.getenv(\"PREDCT_FEATURES_DIR\")\n",
    "\n",
    "# --- CHANGE THIS TO SWITCH BETWEEN MODMA AND PREDCT DATASET ---\n",
    "whichEpochsDir = modmaEpochsDir\n",
    "whichFeaturesDir = modmaFeaturesDir\n",
    "\n",
    "# --- SET VARIABLES FOR FEATURES EXTRACTION PROCESS ---\n",
    "NUM_CHANNELS = 16\n",
    "SFREQ = 250\n",
    "NUM_UNSEEN_HC_SUBJECTS = 2\n",
    "NUM_UNSEEN_MDD_SUBJECTS = 2\n",
    "# --------------------------------------------------------------\n",
    "\n",
    "mddEpochDir = whichEpochsDir + \"/mdd\"\n",
    "hcEpochDir = whichEpochsDir + \"/hc\""
   ]
  },
  {
   "cell_type": "code",
   "execution_count": null,
   "metadata": {},
   "outputs": [],
   "source": [
    "mddFiles = [os.path.join(mddEpochDir, f) for f in os.listdir(mddEpochDir) if f.endswith(\".fif\")]\n",
    "hcFiles = [os.path.join(hcEpochDir, f) for f in os.listdir(hcEpochDir) if f.endswith(\".fif\")]\n",
    "totalMddSubjects = len(mddFiles)\n",
    "totalHcSubjects = len(hcFiles)\n",
    "numMddEpochs = max(0, totalMddSubjects - NUM_UNSEEN_MDD_SUBJECTS)\n",
    "numHcEpochs = max(0, totalHcSubjects - NUM_UNSEEN_HC_SUBJECTS)\n",
    "\n",
    "mddUnseenFiles = random.sample(mddFiles, NUM_UNSEEN_MDD_SUBJECTS)\n",
    "hcUnseenFiles = random.sample(hcFiles, NUM_UNSEEN_HC_SUBJECTS)\n",
    "\n",
    "mddEpochFiles = [f for f in mddFiles if f not in mddUnseenFiles][:numMddEpochs]\n",
    "hcEpochFiles = [f for f in hcFiles if f not in hcUnseenFiles][:numHcEpochs]\n",
    "\n",
    "mddUnseenEpochs = mne.concatenate_epochs([mne.read_epochs(f) for f in mddUnseenFiles])\n",
    "hcUnseenEpochs = mne.concatenate_epochs([mne.read_epochs(f) for f in hcUnseenFiles])\n",
    "mddEpochs = mne.concatenate_epochs([mne.read_epochs(f) for f in mddEpochFiles])\n",
    "hcEpochs = mne.concatenate_epochs([mne.read_epochs(f) for f in hcEpochFiles])"
   ]
  },
  {
   "cell_type": "code",
   "execution_count": 8,
   "metadata": {},
   "outputs": [
    {
     "name": "stdout",
     "output_type": "stream",
     "text": [
      "Total MDD subjects: 24\n",
      "Total HC subjects: 29\n",
      "Number of unseen MDD subjects: 2\n",
      "Number of unseen HC subjects: 2\n",
      "Number of MDD epochs: 22\n",
      "Number of HC epochs: 27\n"
     ]
    }
   ],
   "source": [
    "print(f\"Total MDD subjects: {totalMddSubjects}\")\n",
    "print(f\"Total HC subjects: {totalHcSubjects}\")\n",
    "print(f\"Number of unseen MDD subjects: {len(mddUnseenFiles)}\")\n",
    "print(f\"Number of unseen HC subjects: {len(hcUnseenFiles)}\")\n",
    "print(f\"Number of MDD epochs: {len(mddEpochFiles)}\")\n",
    "print(f\"Number of HC epochs: {len(hcEpochFiles)}\")"
   ]
  },
  {
   "cell_type": "code",
   "execution_count": null,
   "metadata": {},
   "outputs": [],
   "source": []
  }
 ],
 "metadata": {
  "kernelspec": {
   "display_name": "brain-mdd",
   "language": "python",
   "name": "python3"
  },
  "language_info": {
   "codemirror_mode": {
    "name": "ipython",
    "version": 3
   },
   "file_extension": ".py",
   "mimetype": "text/x-python",
   "name": "python",
   "nbconvert_exporter": "python",
   "pygments_lexer": "ipython3",
   "version": "3.12.7"
  }
 },
 "nbformat": 4,
 "nbformat_minor": 2
}
