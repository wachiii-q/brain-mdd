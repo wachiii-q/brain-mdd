{
 "cells": [
  {
   "cell_type": "markdown",
   "metadata": {},
   "source": [
    "# Initiate Feature Extraction"
   ]
  },
  {
   "cell_type": "code",
   "execution_count": null,
   "metadata": {},
   "outputs": [],
   "source": [
    "import dotenv\n",
    "import numpy as np\n",
    "import os\n",
    "import random\n",
    "import mne\n",
    "import enum\n",
    "\n",
    "\n",
    "class PredCtChannelMapping(enum.Enum):\n",
    "    Fp1 = 1\n",
    "    Fp2 = 3\n",
    "    F3 = 8\n",
    "    F4 = 12\n",
    "    C3 = 26\n",
    "    C4 = 30\n",
    "    P3 = 46\n",
    "    P4 = 50\n",
    "    O1 = 61\n",
    "    O2 = 63\n",
    "    F7 = 6\n",
    "    F8 = 14\n",
    "    T7 = 24 ## was T3\n",
    "    T8 = 32 ## was T4\n",
    "    P7 = 44 ## was T5\n",
    "    P8 = 52 ## was T6\n",
    "\n",
    "class ModmaChannelMapping(enum.Enum):\n",
    "    Fp1 = 22\n",
    "    Fp2 = 9\n",
    "    F3 = 24\n",
    "    F4 = 124\n",
    "    C3 = 36\n",
    "    C4 = 104\n",
    "    P3 = 52\n",
    "    P4 = 92\n",
    "    O1 = 70\n",
    "    O2 = 83\n",
    "    F7 = 33\n",
    "    F8 = 122\n",
    "    T3 = 45\n",
    "    T4 = 108\n",
    "    T5 = 58\n",
    "    T6 = 96\n",
    "\n",
    "dotenv.load_dotenv()\n",
    "modmaEpochsDir = os.getenv(\"MODMA_10S_EPOCHS_DIR\")\n",
    "predctEpochsDir = os.getenv(\"PREDCT_10S_EPOCHS_DIR\")\n",
    "modmaFeaturesDir = os.getenv(\"MODMA_FEATURES_DIR\")\n",
    "predctFeaturesDir = os.getenv(\"PREDCT_FEATURES_DIR\")\n",
    "\n",
    "\n",
    "# === CHANGE THIS TO SWITCH BETWEEN MODMA AND PREDCT DATASET ===\n",
    "whichEpochsDir = modmaEpochsDir\n",
    "whichFeaturesDir = modmaFeaturesDir\n",
    "\n",
    "# --- SET VARIABLES FOR FEATURES EXTRACTION PROCESS ---\n",
    "NUM_CHANNELS = 16\n",
    "SFREQ = 250\n",
    "NUM_UNSEEN_HC_SUBJECTS = 2\n",
    "NUM_UNSEEN_MDD_SUBJECTS = 2\n",
    "# ===============================================================\n",
    "\n",
    "mddEpochDir = whichEpochsDir + \"/mdd\"\n",
    "hcEpochDir = whichEpochsDir + \"/hc\""
   ]
  },
  {
   "cell_type": "code",
   "execution_count": null,
   "metadata": {},
   "outputs": [],
   "source": [
    "mddFiles = [os.path.join(mddEpochDir, f) for f in os.listdir(mddEpochDir) if f.endswith(\".fif\")]\n",
    "hcFiles = [os.path.join(hcEpochDir, f) for f in os.listdir(hcEpochDir) if f.endswith(\".fif\")]\n",
    "totalMddSubjects = len(mddFiles)\n",
    "totalHcSubjects = len(hcFiles)\n",
    "numMddEpochs = max(0, totalMddSubjects - NUM_UNSEEN_MDD_SUBJECTS)\n",
    "numHcEpochs = max(0, totalHcSubjects - NUM_UNSEEN_HC_SUBJECTS)\n",
    "\n",
    "mddUnseenFiles = random.sample(mddFiles, NUM_UNSEEN_MDD_SUBJECTS)\n",
    "hcUnseenFiles = random.sample(hcFiles, NUM_UNSEEN_HC_SUBJECTS)\n",
    "\n",
    "mddEpochFiles = [f for f in mddFiles if f not in mddUnseenFiles][:numMddEpochs]\n",
    "hcEpochFiles = [f for f in hcFiles if f not in hcUnseenFiles][:numHcEpochs]\n",
    "\n",
    "mddUnseenEpochs = mne.concatenate_epochs([mne.read_epochs(f) for f in mddUnseenFiles])\n",
    "hcUnseenEpochs = mne.concatenate_epochs([mne.read_epochs(f) for f in hcUnseenFiles])\n",
    "mddEpochs = mne.concatenate_epochs([mne.read_epochs(f) for f in mddEpochFiles])\n",
    "hcEpochs = mne.concatenate_epochs([mne.read_epochs(f) for f in hcEpochFiles])"
   ]
  },
  {
   "cell_type": "code",
   "execution_count": 11,
   "metadata": {},
   "outputs": [
    {
     "name": "stdout",
     "output_type": "stream",
     "text": [
      "Total MDD subjects: 24\n",
      "Total HC subjects: 29\n",
      "Number of unseen MDD subjects: 2\n",
      "Number of unseen HC subjects: 2\n",
      "Number of MDD epochs: 22\n",
      "Number of HC epochs: 27\n",
      "mddUnseenEpochs shape: (31, 16, 2500)\n",
      "hcUnseenEpochs shape: (31, 16, 2500)\n",
      "mddEpochs shape: (330, 16, 2500)\n",
      "hcEpochs shape: (406, 16, 2500)\n"
     ]
    }
   ],
   "source": [
    "print(f\"Total MDD subjects: {totalMddSubjects}\")\n",
    "print(f\"Total HC subjects: {totalHcSubjects}\")\n",
    "print(f\"Number of unseen MDD subjects: {len(mddUnseenFiles)}\")\n",
    "print(f\"Number of unseen HC subjects: {len(hcUnseenFiles)}\")\n",
    "print(f\"Number of MDD epochs: {len(mddEpochFiles)}\")\n",
    "print(f\"Number of HC epochs: {len(hcEpochFiles)}\")\n",
    "\n",
    "print(f\"mddUnseenEpochs shape: {mddUnseenEpochs.get_data().shape}\")\n",
    "print(f\"hcUnseenEpochs shape: {hcUnseenEpochs.get_data().shape}\")\n",
    "print(f\"mddEpochs shape: {mddEpochs.get_data().shape}\")\n",
    "print(f\"hcEpochs shape: {hcEpochs.get_data().shape}\")"
   ]
  },
  {
   "cell_type": "markdown",
   "metadata": {},
   "source": [
    "## Feature Extraction"
   ]
  },
  {
   "cell_type": "markdown",
   "metadata": {},
   "source": [
    "### 1. Band Power"
   ]
  },
  {
   "cell_type": "code",
   "execution_count": 29,
   "metadata": {},
   "outputs": [],
   "source": [
    "from brainmdd.features.psd import EEGPowerSpectrum\n",
    "\n",
    "# NOTE: featureDict looks like this:\n",
    "featureDict = {\n",
    "    \"band_power\": {\n",
    "        \"mdd\": {\n",
    "            \"delta\": [],\n",
    "            \"theta\": [],\n",
    "            \"alpha\": [],\n",
    "            \"beta\": [],\n",
    "            \"gamma\": []\n",
    "            },\n",
    "        \"control\": {\n",
    "            \"delta\": [],\n",
    "            \"theta\": [],\n",
    "            \"alpha\": [],\n",
    "            \"beta\": [],\n",
    "            \"gamma\": []\n",
    "            }\n",
    "        }\n",
    "    }\n",
    "\n",
    "resultFileEpochMap = [\n",
    "    (\"bandpower_MDD.npy\", mddEpochs.get_data()),\n",
    "    (\"bandpower_HC.npy\", hcEpochs.get_data()),\n",
    "    (\"bandpower_MDD_unseen.npy\", mddUnseenEpochs.get_data()),\n",
    "    (\"bandpower_HC_unseen.npy\", hcUnseenEpochs.get_data())\n",
    "]\n",
    "\n",
    "bandPowerFeatureDir = whichFeaturesDir + \"/bandpower\"\n",
    "if not os.path.exists(bandPowerFeatureDir):\n",
    "    os.makedirs(bandPowerFeatureDir)    "
   ]
  },
  {
   "cell_type": "code",
   "execution_count": 30,
   "metadata": {},
   "outputs": [],
   "source": [
    "def calculate_and_save_bandpower_features(result_file_epoch_map, bandpower_feature_dir, sfreq):\n",
    "    for filename, epochs in result_file_epoch_map:        \n",
    "        psdObj = EEGPowerSpectrum(epochs, sfreq, ifNormalize=False)\n",
    "        bandpowerFeatures = psdObj.run()\n",
    "        save_path = os.path.join(bandpower_feature_dir, filename)\n",
    "        np.save(save_path, bandpowerFeatures)\n",
    "        print(f\"Saved {filename} to {save_path}\")\n",
    "    print(\"Feature extraction and saving completed.\")"
   ]
  },
  {
   "cell_type": "code",
   "execution_count": 31,
   "metadata": {},
   "outputs": [
    {
     "name": "stdout",
     "output_type": "stream",
     "text": [
      "Saved bandpower_MDD.npy to /Users/wachiii/Workschii/brain-mdd/data/features/modma/bandpower/bandpower_MDD.npy\n",
      "Saved bandpower_HC.npy to /Users/wachiii/Workschii/brain-mdd/data/features/modma/bandpower/bandpower_HC.npy\n",
      "Saved bandpower_MDD_unseen.npy to /Users/wachiii/Workschii/brain-mdd/data/features/modma/bandpower/bandpower_MDD_unseen.npy\n",
      "Saved bandpower_HC_unseen.npy to /Users/wachiii/Workschii/brain-mdd/data/features/modma/bandpower/bandpower_HC_unseen.npy\n",
      "Feature extraction and saving completed.\n"
     ]
    }
   ],
   "source": [
    "calculate_and_save_bandpower_features(resultFileEpochMap, bandPowerFeatureDir, SFREQ)"
   ]
  },
  {
   "cell_type": "markdown",
   "metadata": {},
   "source": [
    "### 2. Relative Power"
   ]
  },
  {
   "cell_type": "code",
   "execution_count": 32,
   "metadata": {},
   "outputs": [],
   "source": [
    "from brainmdd.features.psd import EEGPowerSpectrum\n",
    "\n",
    "\n",
    "# NOTE: featureDict looks like this:\n",
    "featureDict = {\n",
    "    \"relative_power\": {\n",
    "        \"mdd\": {\n",
    "            \"delta\": [],\n",
    "            \"theta\": [],\n",
    "            \"alpha\": [],\n",
    "            \"beta\": [],\n",
    "            \"gamma\": []\n",
    "            },\n",
    "        \"control\": {\n",
    "            \"delta\": [],\n",
    "            \"theta\": [],\n",
    "            \"alpha\": [],\n",
    "            \"beta\": [],\n",
    "            \"gamma\": []\n",
    "            }\n",
    "        }\n",
    "    }\n",
    "\n",
    "resultFileEpochMap = [\n",
    "    (\"relative_power_MDD.npy\", mddEpochs.get_data()),\n",
    "    (\"relative_power_HC.npy\", hcEpochs.get_data()),\n",
    "    (\"relative_power_MDD_unseen.npy\", mddUnseenEpochs.get_data()),\n",
    "    (\"relative_power_HC_unseen.npy\", hcUnseenEpochs.get_data())\n",
    "]\n",
    "\n",
    "relativePowerFeatureDir = whichFeaturesDir + \"/relativepower\"\n",
    "if not os.path.exists(relativePowerFeatureDir):\n",
    "    os.makedirs(relativePowerFeatureDir)"
   ]
  },
  {
   "cell_type": "code",
   "execution_count": 33,
   "metadata": {},
   "outputs": [],
   "source": [
    "def calculate_and_save_relative_power_features(result_file_epoch_map, relative_power_feature_dir, sfreq):\n",
    "    for filename, epochs in result_file_epoch_map:\n",
    "        psdObj = EEGPowerSpectrum(epochs, sfreq, ifNormalize=True)  \n",
    "        relativePowerFeatures = psdObj.run()\n",
    "        save_path = os.path.join(relative_power_feature_dir, filename)\n",
    "        np.save(save_path, relativePowerFeatures)\n",
    "        print(f\"Saved {filename} to {save_path}\")\n",
    "    print(\"Relative power feature extraction and saving completed.\")"
   ]
  },
  {
   "cell_type": "code",
   "execution_count": 34,
   "metadata": {},
   "outputs": [
    {
     "name": "stdout",
     "output_type": "stream",
     "text": [
      "Saved relative_power_MDD.npy to /Users/wachiii/Workschii/brain-mdd/data/features/modma/relativepower/relative_power_MDD.npy\n",
      "Saved relative_power_HC.npy to /Users/wachiii/Workschii/brain-mdd/data/features/modma/relativepower/relative_power_HC.npy\n",
      "Saved relative_power_MDD_unseen.npy to /Users/wachiii/Workschii/brain-mdd/data/features/modma/relativepower/relative_power_MDD_unseen.npy\n",
      "Saved relative_power_HC_unseen.npy to /Users/wachiii/Workschii/brain-mdd/data/features/modma/relativepower/relative_power_HC_unseen.npy\n",
      "Relative power feature extraction and saving completed.\n"
     ]
    }
   ],
   "source": [
    "calculate_and_save_relative_power_features(resultFileEpochMap, relativePowerFeatureDir, SFREQ)"
   ]
  },
  {
   "cell_type": "markdown",
   "metadata": {},
   "source": [
    "### 3. Higuchi Fractral Dimension (HFD)"
   ]
  },
  {
   "cell_type": "code",
   "execution_count": 26,
   "metadata": {},
   "outputs": [],
   "source": [
    "from brainmdd.features.hfd import EEGHiguchiFractalDimension\n",
    "\n",
    "# NOTE: featureDict looks like this:\n",
    "featureDict = {\n",
    "    \"HFD\": {\n",
    "        \"mdd\": [],\n",
    "        \"control\": []\n",
    "    }\n",
    "}\n",
    "\n",
    "resultFileEpochMap = [\n",
    "    (\"hfd_MDD.npy\", mddEpochs.get_data()),\n",
    "    (\"hfd_HC.npy\", hcEpochs.get_data()),\n",
    "    (\"hfd_unseen_MDD.npy\", mddUnseenEpochs.get_data()),\n",
    "    (\"hfd_unseen_HC.npy\", hcUnseenEpochs.get_data())\n",
    "]\n",
    "\n",
    "hfdFeatureDir = whichFeaturesDir + \"/hfd\"\n",
    "if not os.path.exists(hfdFeatureDir):\n",
    "    os.makedirs(hfdFeatureDir)"
   ]
  },
  {
   "cell_type": "code",
   "execution_count": 27,
   "metadata": {},
   "outputs": [],
   "source": [
    "def calculate_and_save_hfd_features(result_file_epoch_map, hfd_feature_dir):\n",
    "    for filename, epochs in result_file_epoch_map: \n",
    "        hfdObj = EEGHiguchiFractalDimension(epochs)\n",
    "        hfdFeatures = hfdObj.run()\n",
    "        save_path = os.path.join(hfd_feature_dir, filename)\n",
    "        np.save(save_path, hfdFeatures)\n",
    "        print(f\"Saved {filename} to {save_path}\")\n",
    "    print(\"HFD feature extraction and saving completed.\")"
   ]
  },
  {
   "cell_type": "code",
   "execution_count": 28,
   "metadata": {},
   "outputs": [
    {
     "name": "stdout",
     "output_type": "stream",
     "text": [
      "Saved hfd_MDD.npy to /Users/wachiii/Workschii/brain-mdd/data/features/modma/hfd/hfd_MDD.npy\n",
      "Saved hfd_HC.npy to /Users/wachiii/Workschii/brain-mdd/data/features/modma/hfd/hfd_HC.npy\n",
      "Saved hfd_unseen_MDD.npy to /Users/wachiii/Workschii/brain-mdd/data/features/modma/hfd/hfd_unseen_MDD.npy\n",
      "Saved hfd_unseen_HC.npy to /Users/wachiii/Workschii/brain-mdd/data/features/modma/hfd/hfd_unseen_HC.npy\n",
      "HFD feature extraction and saving completed.\n"
     ]
    }
   ],
   "source": [
    "calculate_and_save_hfd_features(resultFileEpochMap, hfdFeatureDir)"
   ]
  },
  {
   "cell_type": "markdown",
   "metadata": {},
   "source": [
    "### 4. Coherences"
   ]
  },
  {
   "cell_type": "code",
   "execution_count": 35,
   "metadata": {},
   "outputs": [],
   "source": [
    "from brainmdd.features.coherence import EEGCoherence\n",
    "\n",
    "# NOTE: featureDict looks like this:\n",
    "featureDict = {\n",
    "    \"coherence\": {\n",
    "        \"mdd\": {\n",
    "            \"delta\": [],\n",
    "            \"theta\": [],\n",
    "            \"alpha\": [],\n",
    "            \"beta\": [],\n",
    "            \"gamma\": []\n",
    "            },\n",
    "        \"control\": {\n",
    "            \"delta\": [],\n",
    "            \"theta\": [],\n",
    "            \"alpha\": [],\n",
    "            \"beta\": [],\n",
    "            \"gamma\": []\n",
    "            }\n",
    "        }\n",
    "    } \n",
    "\n",
    "resultFileEpochMap = [\n",
    "    (\"coherence_MDD.npy\", mddEpochs.get_data()),\n",
    "    (\"coherence_HC.npy\", hcEpochs.get_data()),\n",
    "    (\"coherence_unseen_MDD.npy\", mddUnseenEpochs.get_data()),\n",
    "    (\"coherence_unseen_HC.npy\", hcUnseenEpochs.get_data())\n",
    "]\n",
    "\n",
    "coherenceFeatureDir = whichFeaturesDir + \"/coherence\"\n",
    "if not os.path.exists(coherenceFeatureDir):\n",
    "    os.makedirs(coherenceFeatureDir)"
   ]
  },
  {
   "cell_type": "code",
   "execution_count": 36,
   "metadata": {},
   "outputs": [],
   "source": [
    "def calculate_and_save_coherence_features(result_file_epoch_map, coherence_feature_dir, sfreq):\n",
    "    for filename, epoch_data in result_file_epoch_map:\n",
    "        coherenceObj = EEGCoherence(epoch_data, sfreq)\n",
    "        coherenceFeatures = coherenceObj.run()\n",
    "        save_path = os.path.join(coherence_feature_dir, filename)\n",
    "        np.save(save_path, coherenceFeatures)\n",
    "        print(f\"Saved {filename} to {save_path}\")\n",
    "    print(\"Coherence feature extraction and saving completed.\")"
   ]
  },
  {
   "cell_type": "code",
   "execution_count": 37,
   "metadata": {},
   "outputs": [
    {
     "name": "stdout",
     "output_type": "stream",
     "text": [
      "Saved coherence_MDD.npy to /Users/wachiii/Workschii/brain-mdd/data/features/modma/coherence/coherence_MDD.npy\n",
      "Saved coherence_HC.npy to /Users/wachiii/Workschii/brain-mdd/data/features/modma/coherence/coherence_HC.npy\n",
      "Saved coherence_unseen_MDD.npy to /Users/wachiii/Workschii/brain-mdd/data/features/modma/coherence/coherence_unseen_MDD.npy\n",
      "Saved coherence_unseen_HC.npy to /Users/wachiii/Workschii/brain-mdd/data/features/modma/coherence/coherence_unseen_HC.npy\n",
      "Coherence feature extraction and saving completed.\n"
     ]
    }
   ],
   "source": [
    "calculate_and_save_coherence_features(resultFileEpochMap, coherenceFeatureDir, SFREQ)"
   ]
  },
  {
   "cell_type": "markdown",
   "metadata": {},
   "source": [
    "### 5. Correlation Dimension (CD)"
   ]
  },
  {
   "cell_type": "code",
   "execution_count": 38,
   "metadata": {},
   "outputs": [],
   "source": [
    "from brainmdd.features.correlationdimension import EEGCorrelationDimension\n",
    "\n",
    "# NOTE: featureDict looks like this:\n",
    "featureDict = {\n",
    "    \"CD\": {\n",
    "        \"mdd\": [],\n",
    "        \"control\": []\n",
    "    }\n",
    "}\n",
    "\n",
    "resultFileEpochMap = [\n",
    "    (\"cd_MDD.npy\", mddEpochs.get_data()),\n",
    "    (\"cd_HC.npy\", hcEpochs.get_data()),\n",
    "    (\"cd_unseen_MDD.npy\", mddUnseenEpochs.get_data()),\n",
    "    (\"cd_unseen_HC.npy\", hcUnseenEpochs.get_data())\n",
    "]\n",
    "\n",
    "cdFeatureDir = whichFeaturesDir + \"/cd\"\n",
    "if not os.path.exists(cdFeatureDir):\n",
    "    os.makedirs(cdFeatureDir)"
   ]
  },
  {
   "cell_type": "code",
   "execution_count": 39,
   "metadata": {},
   "outputs": [],
   "source": [
    "def calculate_and_save_cd_features(result_file_epoch_map, cd_feature_dir, sfreq):\n",
    "    for filename, epoch_data in result_file_epoch_map:\n",
    "        cdObj = EEGCorrelationDimension(epoch_data, sfreq)\n",
    "        cdFeatures = cdObj.run()\n",
    "        save_path = os.path.join(cd_feature_dir, filename)\n",
    "        np.save(save_path, cdFeatures)\n",
    "        print(f\"Saved {filename} to {save_path}\")\n",
    "    print(\"Coherence Density feature extraction and saving completed.\")"
   ]
  },
  {
   "cell_type": "code",
   "execution_count": null,
   "metadata": {},
   "outputs": [],
   "source": [
    "calculate_and_save_cd_features(resultFileEpochMap, cdFeatureDir, SFREQ)"
   ]
  },
  {
   "cell_type": "code",
   "execution_count": null,
   "metadata": {},
   "outputs": [],
   "source": []
  }
 ],
 "metadata": {
  "kernelspec": {
   "display_name": "brain-mdd",
   "language": "python",
   "name": "python3"
  },
  "language_info": {
   "codemirror_mode": {
    "name": "ipython",
    "version": 3
   },
   "file_extension": ".py",
   "mimetype": "text/x-python",
   "name": "python",
   "nbconvert_exporter": "python",
   "pygments_lexer": "ipython3",
   "version": "3.12.7"
  }
 },
 "nbformat": 4,
 "nbformat_minor": 2
}
