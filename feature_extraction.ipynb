{
 "cells": [
  {
   "cell_type": "markdown",
   "metadata": {},
   "source": [
    "# Initiate Feature Extraction"
   ]
  },
  {
   "cell_type": "code",
   "execution_count": 1,
   "metadata": {},
   "outputs": [],
   "source": [
    "import dotenv\n",
    "import numpy as np\n",
    "import os\n",
    "\n",
    "dotenv.load_dotenv()\n",
    "\n",
    "modmaEpochsDir = os.getenv(\"MODMA_10S_EPOCHS_DIR\")\n",
    "predctEpochsDir = os.getenv(\"PREDCT_10S_EPOCHS_DIR\")\n",
    "modmaFeaturesDir = os.getenv(\"MODMA_FEATURES_DIR\")\n",
    "predctFeaturesDir = os.getenv(\"PREDCT_FEATURES_DIR\")\n",
    "\n",
    "# --- CHANGE THIS TO SWITCH BETWEEN MODMA AND PREDCT DATASET ---\n",
    "whichEpochsDir = modmaEpochsDir\n",
    "whichFeaturesDir = modmaFeaturesDir\n",
    "# --------------------------------------------------------------\n",
    "\n",
    "mddEpochDir = whichEpochsDir + \"/mdd\"\n",
    "hcEpochDir = whichEpochsDir + \"/hc\""
   ]
  },
  {
   "cell_type": "code",
   "execution_count": null,
   "metadata": {},
   "outputs": [],
   "source": []
  }
 ],
 "metadata": {
  "kernelspec": {
   "display_name": "brain-mdd",
   "language": "python",
   "name": "python3"
  },
  "language_info": {
   "codemirror_mode": {
    "name": "ipython",
    "version": 3
   },
   "file_extension": ".py",
   "mimetype": "text/x-python",
   "name": "python",
   "nbconvert_exporter": "python",
   "pygments_lexer": "ipython3",
   "version": "3.12.7"
  }
 },
 "nbformat": 4,
 "nbformat_minor": 2
}
